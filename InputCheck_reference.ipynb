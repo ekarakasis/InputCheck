{
 "cells": [
  {
   "cell_type": "markdown",
   "metadata": {
    "toc": true
   },
   "source": [
    "<h1>Table of Contents<span class=\"tocSkip\"></span></h1>\n",
    "<div class=\"toc\"><ul class=\"toc-item\"><li><span><a href=\"#InputCheck\" data-toc-modified-id=\"InputCheck-1\"><span class=\"toc-item-num\">1&nbsp;&nbsp;</span>InputCheck</a></span><ul class=\"toc-item\"><li><span><a href=\"#Supported-Checks\" data-toc-modified-id=\"Supported-Checks-1.1\"><span class=\"toc-item-num\">1.1&nbsp;&nbsp;</span>Supported Checks</a></span></li><li><span><a href=\"#Installation\" data-toc-modified-id=\"Installation-1.2\"><span class=\"toc-item-num\">1.2&nbsp;&nbsp;</span>Installation</a></span></li><li><span><a href=\"#Import-the-library\" data-toc-modified-id=\"Import-the-library-1.3\"><span class=\"toc-item-num\">1.3&nbsp;&nbsp;</span>Import the library</a></span></li><li><span><a href=\"#Type-Check-Examples\" data-toc-modified-id=\"Type-Check-Examples-1.4\"><span class=\"toc-item-num\">1.4&nbsp;&nbsp;</span>Type Check Examples</a></span><ul class=\"toc-item\"><li><span><a href=\"#Example-1---Check-Types\" data-toc-modified-id=\"Example-1---Check-Types-1.4.1\"><span class=\"toc-item-num\">1.4.1&nbsp;&nbsp;</span>Example 1 - Check Types</a></span></li><li><span><a href=\"#Example-2---Disable-the-Type-checks\" data-toc-modified-id=\"Example-2---Disable-the-Type-checks-1.4.2\"><span class=\"toc-item-num\">1.4.2&nbsp;&nbsp;</span>Example 2 - Disable the Type checks</a></span></li><li><span><a href=\"#Example-3---List-Consistency-Check\" data-toc-modified-id=\"Example-3---List-Consistency-Check-1.4.3\"><span class=\"toc-item-num\">1.4.3&nbsp;&nbsp;</span>Example 3 - List Consistency Check</a></span></li><li><span><a href=\"#Example-4---List-Consistency-Check-&amp;-Desired-Type\" data-toc-modified-id=\"Example-4---List-Consistency-Check-&amp;-Desired-Type-1.4.4\"><span class=\"toc-item-num\">1.4.4&nbsp;&nbsp;</span>Example 4 - List Consistency Check &amp; Desired Type</a></span></li><li><span><a href=\"#Run-Time-Check\" data-toc-modified-id=\"Run-Time-Check-1.4.5\"><span class=\"toc-item-num\">1.4.5&nbsp;&nbsp;</span>Run Time Check</a></span></li></ul></li></ul></li></ul></div>"
   ]
  },
  {
   "cell_type": "markdown",
   "metadata": {},
   "source": [
    "# InputCheck"
   ]
  },
  {
   "cell_type": "markdown",
   "metadata": {},
   "source": [
    "This notebook is written with the intention to serve as quick reference on how to properly use the *InputCheck* library. "
   ]
  },
  {
   "cell_type": "markdown",
   "metadata": {},
   "source": [
    "## Supported Checks"
   ]
  },
  {
   "cell_type": "markdown",
   "metadata": {},
   "source": [
    "> **Coming Soon**"
   ]
  },
  {
   "cell_type": "markdown",
   "metadata": {},
   "source": [
    "## Installation"
   ]
  },
  {
   "cell_type": "markdown",
   "metadata": {},
   "source": [
    "To install this package just follow these steps:\n",
    "\n",
    "1. download this repository from GitHub or by using the following command line:\n",
    "\n",
    "> *$ git clone https://github.com/ekarakasis/InputCheck*\n",
    "\n",
    "2. go to the local root folder, open a command line and run:\n",
    "\n",
    "> *\\$ pip install .*\n",
    "\n",
    "   and if you want to install it to a specific Anaconda environment then write:         \n",
    "   \n",
    "> *\\$ activate <Some_Environment_Name>*\n",
    ">\n",
    "> *\\$ pip install .*"
   ]
  },
  {
   "cell_type": "markdown",
   "metadata": {},
   "source": [
    "## Import the library"
   ]
  },
  {
   "cell_type": "code",
   "execution_count": 1,
   "metadata": {
    "init_cell": true
   },
   "outputs": [],
   "source": [
    "from InputCheck.InputCheckDecorators import acceptedTypes, acceptedValues"
   ]
  },
  {
   "cell_type": "markdown",
   "metadata": {},
   "source": [
    "## Type Check Examples"
   ]
  },
  {
   "cell_type": "markdown",
   "metadata": {},
   "source": [
    "### Example 1 - Check Types"
   ]
  },
  {
   "cell_type": "markdown",
   "metadata": {},
   "source": [
    "In this example we will create a function with two arguments (input1 & input2). The first argument must be a number (integer or real), while the second one can either be a string or None. "
   ]
  },
  {
   "cell_type": "code",
   "execution_count": 2,
   "metadata": {
    "init_cell": true
   },
   "outputs": [
    {
     "name": "stdout",
     "output_type": "stream",
     "text": [
      "\n",
      ">>> 1st exception:  The type of the 1st argument of function func() does not belong in [<class 'int'>, <class 'float'>]\n",
      "\n",
      ">>> 2nd exception:  The type of the 2nd argument of function func() does not belong in [<class 'str'>, <class 'NoneType'>]\n"
     ]
    }
   ],
   "source": [
    "# NOTE : None is not a type, thus, for allowing the input2 to take a None value, \n",
    "# we must set the correspoding type: <type(None)> to be acceptable \n",
    "@acceptedTypes([int, float], [str, type(None)])\n",
    "def func(input1, input2):\n",
    "    pass\n",
    "\n",
    "# the types of these values are acceptable and thus no type exception is raised\n",
    "func(5, 'some text')\n",
    "func(5.0, None)\n",
    "\n",
    "# let's now catch some exceptions by feeding wrong inputs\n",
    "try:\n",
    "    # remember that we do not accept type(None) types for the input1\n",
    "    # input1 must strictly be int or float!\n",
    "    func(None, 'some text') \n",
    "except TypeError as ex:\n",
    "    print('\\n>>> 1st exception: ', ex)\n",
    "    \n",
    "try:\n",
    "    # Now we feed a int type in the input2, which is fact it is not accepted\n",
    "    func(5, 5) \n",
    "except TypeError as ex:\n",
    "    print('\\n>>> 2nd exception: ', ex)"
   ]
  },
  {
   "cell_type": "markdown",
   "metadata": {},
   "source": [
    "### Example 2 - Disable the Type checks"
   ]
  },
  {
   "cell_type": "markdown",
   "metadata": {},
   "source": [
    "Here we will use again the function which was defined in the previous example 1. However, when we will apply the decorator we will use an additional argument, which will give us the ability to enable/disable the type checks."
   ]
  },
  {
   "cell_type": "code",
   "execution_count": 3,
   "metadata": {
    "init_cell": true
   },
   "outputs": [],
   "source": [
    "# The default value of the typesCheckEnabled is True. Change it to False and no checks are taken place for this function.\n",
    "@acceptedTypes([int, float], [str, type(None)], typesCheckEnabled = False)\n",
    "def func(input1, input2):\n",
    "    pass\n",
    "\n",
    "# could be acceptable\n",
    "func(5, 'some text')\n",
    "func(5.0, None)\n",
    "# could otherwise raise a TypeError\n",
    "func(None, 'some text') \n",
    "func(5, 5)\n",
    "\n",
    "# there is no output because there is no check to be applied."
   ]
  },
  {
   "cell_type": "markdown",
   "metadata": {},
   "source": [
    "### Example 3 - List Consistency Check"
   ]
  },
  {
   "cell_type": "markdown",
   "metadata": {},
   "source": [
    "For this example we will create a function with one argument. The argument must be list or tuple and all of its elements must have the same type."
   ]
  },
  {
   "cell_type": "code",
   "execution_count": 4,
   "metadata": {
    "init_cell": true
   },
   "outputs": [
    {
     "name": "stdout",
     "output_type": "stream",
     "text": [
      "\n",
      ">>> 1st exception:  The type of the 1st argument of function func() does not belong in [<class 'list'>, <class 'tuple'>]\n",
      "\n",
      ">>> 2nd exception:  Each element of the 1st variable must have the same type.\n"
     ]
    }
   ],
   "source": [
    "# It should be noted, that in this example the accepted types determined inside a dictionary!\n",
    "# If the only thing we would want to ensure was the type of input1, then the following code would be sufficient:\n",
    "#\n",
    "# @acceptedTypes([list, tuple])\n",
    "# def func(intput1):\n",
    "#     pass \n",
    "#\n",
    "# Note: to check the type consistency of a list or tuple (currently only these types are supported)\n",
    "#       we pass the <checkConsistency> flag through a \"command\"\n",
    "#\n",
    "typeCheck = {\n",
    "    'type': [list, tuple],  \n",
    "    'command': {\n",
    "        'checkConsistency': True\n",
    "    }\n",
    "}\n",
    "@acceptedTypes(typeCheck)\n",
    "def func(intput1):\n",
    "    pass\n",
    "\n",
    "# no issues for this line\n",
    "func([1,2,3,4,5])\n",
    "\n",
    "try:\n",
    "    # Now let us first try a non acceptable type\n",
    "    func(100)\n",
    "except TypeError as ex:\n",
    "    print('\\n>>> 1st exception: ', ex)\n",
    "        \n",
    "try:\n",
    "    # Now let's try an acceptable, but mixed-type tuple\n",
    "    func((1,2,3,4,'some text'))\n",
    "except TypeError as ex:\n",
    "    print('\\n>>> 2nd exception: ', ex)"
   ]
  },
  {
   "cell_type": "markdown",
   "metadata": {},
   "source": [
    "### Example 4 - List Consistency Check & Desired Type"
   ]
  },
  {
   "cell_type": "markdown",
   "metadata": {},
   "source": [
    "Here we will extend a little bit the requirements of Example 3 by adding one more. We want the input1, except of consistent (same type for all list/tuple elements), to have elements of a specific type as well. For example, we want the input of our function to be a list or tuple AND all the elements to be either integer or float numbers.\n",
    "\n",
    "NOTE:  the currently supported check considers the type of all the elements simultaneously. This means that all the elements Must have the same type and this type Must belong to the allowed ones."
   ]
  },
  {
   "cell_type": "code",
   "execution_count": 5,
   "metadata": {
    "init_cell": true
   },
   "outputs": [
    {
     "name": "stdout",
     "output_type": "stream",
     "text": [
      "\n",
      ">>> 1st exception:  The type of the 1st argument of function func() does not belong in [<class 'list'>, <class 'tuple'>]\n",
      "\n",
      ">>> 2nd exception:  Each element of the 1st variable must have the same type.\n",
      "\n",
      ">>> 3rd exception:  Each element of the 1st variable must have the same type. Allowed types: [<class 'int'>, <class 'float'>].\n"
     ]
    }
   ],
   "source": [
    "# NOTE : The <consistencyType> flag must be used only in combination with <checkConsistency>.\n",
    "#        On the other hand the <checkConsistency> flag can be used alone!\n",
    "typeCheck = {\n",
    "    'type': [list, tuple],  \n",
    "    'command': {\n",
    "        'checkConsistency': True,        # <-- here we declare than we want all the elements of the list/tuple to have the same type\n",
    "        'consistencyType' : [int, float] # <-- and here we declare that we want this type to be either an int or float\n",
    "    }\n",
    "}\n",
    "@acceptedTypes(typeCheck)\n",
    "def func(intput1):\n",
    "    pass\n",
    "\n",
    "try:\n",
    "    # let's first try a non acceptable type\n",
    "    func(100)\n",
    "except TypeError as ex:\n",
    "    print('\\n>>> 1st exception: ', ex)\n",
    "        \n",
    "try:\n",
    "    # Now let's try an acceptable, but mixed-type tuple\n",
    "    func((1,2,3,4,'some text'))\n",
    "except TypeError as ex:\n",
    "    print('\\n>>> 2nd exception: ', ex)\n",
    "    \n",
    "try:\n",
    "    # Now let's try a list with all its elements to have the type str\n",
    "    # This is a consistent list\n",
    "    # but its elements type does not belong to the acceptable types (int or float)\n",
    "    func(['a', 'b', 'c'])\n",
    "except TypeError as ex:\n",
    "    print('\\n>>> 3rd exception: ', ex)    \n",
    "\n",
    "# and here we have some valid inputs (no exceptions raised)\n",
    "func([1,2,3])\n",
    "func((1.0, 2.0, 3.0))"
   ]
  },
  {
   "cell_type": "markdown",
   "metadata": {},
   "source": [
    "### Run Time Check"
   ]
  },
  {
   "cell_type": "markdown",
   "metadata": {},
   "source": [
    "Here we will measure the time needed to check a variety of inputs just to have a rough feeling on how fast is this library.\n",
    "\n",
    "NOTE: the intension of this example is not to evaluate the run time of the library."
   ]
  },
  {
   "cell_type": "code",
   "execution_count": 37,
   "metadata": {},
   "outputs": [
    {
     "name": "stdout",
     "output_type": "stream",
     "text": [
      "206 µs ± 1.58 µs per loop (mean ± std. dev. of 7 runs, 1000 loops each)\n",
      "204 µs ± 2.18 µs per loop (mean ± std. dev. of 7 runs, 1000 loops each)\n",
      "39.8 µs ± 197 ns per loop (mean ± std. dev. of 7 runs, 10000 loops each)\n",
      "30.5 µs ± 852 ns per loop (mean ± std. dev. of 7 runs, 10000 loops each)\n",
      "30.3 µs ± 404 ns per loop (mean ± std. dev. of 7 runs, 10000 loops each)\n"
     ]
    }
   ],
   "source": [
    "import numpy as np\n",
    "\n",
    "# Input type, consistency and element type check\n",
    "LTCheck1 = {\n",
    "    'type': [list, tuple],  \n",
    "    'command': {\n",
    "        'checkConsistency': True,        # <-- here we declare than we want all the elements of the list/tuple to have the same type\n",
    "        'consistencyType' : [int, float] # <-- and here we declare that we want this type to be either an int or float\n",
    "    }\n",
    "}\n",
    "\n",
    "# Input type and consistency check\n",
    "LTCheck2 = {\n",
    "    'type': [list, tuple],  \n",
    "    'command': {\n",
    "        'checkConsistency': True,        # <-- here we declare than we want all the elements of the list/tuple to have the same type        \n",
    "    }\n",
    "}\n",
    "\n",
    "# Input type check\n",
    "LTCheck3 = [list, tuple]\n",
    "\n",
    "# the checks are activated\n",
    "@acceptedTypes(int, float, str, LTCheck1, LTCheck1, np.ndarray)\n",
    "def func1(input_int, input_float, input_str, input_list, input_tuple, input_ndarray):\n",
    "    pass\n",
    "\n",
    "# the checks are activated\n",
    "@acceptedTypes(int, float, str, LTCheck2, LTCheck2, np.ndarray)\n",
    "def func2(input_int, input_float, input_str, input_list, input_tuple, input_ndarray):\n",
    "    pass\n",
    "\n",
    "# the checks are activated\n",
    "@acceptedTypes(int, float, str, LTCheck3, LTCheck3, np.ndarray)\n",
    "def func3(input_int, input_float, input_str, input_list, input_tuple, input_ndarray):\n",
    "    pass\n",
    "\n",
    "# the checks are deactivated\n",
    "@acceptedTypes(int, float, str, LTCheck, LTCheck, np.ndarray, typesCheckEnabled = False)\n",
    "def func4(input_int, input_float, input_str, input_list, input_tuple, input_ndarray):\n",
    "    pass\n",
    "\n",
    "# no use of any decorator\n",
    "def func5(input_int, input_float, input_str, input_list, input_tuple, input_ndarray):\n",
    "    pass\n",
    "\n",
    "%timeit func1(1, 1.0, 'some text', list(range(1000)), tuple(range(1000)), np.ones((1000, 1)))\n",
    "%timeit func2(1, 1.0, 'some text', list(range(1000)), tuple(range(1000)), np.ones((1000, 1)))\n",
    "%timeit func3(1, 1.0, 'some text', list(range(1000)), tuple(range(1000)), np.ones((1000, 1)))\n",
    "%timeit func4(1, 1.0, 'some text', list(range(1000)), tuple(range(1000)), np.ones((1000, 1)))\n",
    "%timeit func5(1, 1.0, 'some text', list(range(1000)), tuple(range(1000)), np.ones((1000, 1)))"
   ]
  },
  {
   "cell_type": "markdown",
   "metadata": {},
   "source": [
    "Here we can observe the following facts:\n",
    "* the consistency check is the most time consuming process\n",
    "* the list element type check of consistent lists/tuples does not add any run time overhead (this is expected, since no loop takes place)\n",
    "* checking only the types without any other functionality is very fast\n",
    "* when disabling  <typesCheckEnabled = False> the type checks, we observe no difference in relation to a function without decorators"
   ]
  }
 ],
 "metadata": {
  "celltoolbar": "Initialization Cell",
  "hide_input": false,
  "kernelspec": {
   "display_name": "Python 3",
   "language": "python",
   "name": "python3"
  },
  "language_info": {
   "codemirror_mode": {
    "name": "ipython",
    "version": 3
   },
   "file_extension": ".py",
   "mimetype": "text/x-python",
   "name": "python",
   "nbconvert_exporter": "python",
   "pygments_lexer": "ipython3",
   "version": "3.6.6"
  },
  "toc": {
   "base_numbering": 1,
   "nav_menu": {},
   "number_sections": true,
   "sideBar": true,
   "skip_h1_title": false,
   "title_cell": "Table of Contents",
   "title_sidebar": "Contents",
   "toc_cell": true,
   "toc_position": {
    "height": "calc(100% - 180px)",
    "left": "10px",
    "top": "150px",
    "width": "209px"
   },
   "toc_section_display": true,
   "toc_window_display": true
  }
 },
 "nbformat": 4,
 "nbformat_minor": 2
}
